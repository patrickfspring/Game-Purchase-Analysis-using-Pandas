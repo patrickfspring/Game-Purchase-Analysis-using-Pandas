{
 "cells": [
  {
   "cell_type": "markdown",
   "metadata": {},
   "source": [
    "### Note\n",
    "* Instructions have been included for each segment. You do not have to follow them exactly, but they are included to help you think through the steps."
   ]
  },
  {
   "cell_type": "code",
   "execution_count": 2,
   "metadata": {},
   "outputs": [
    {
     "data": {
      "text/html": [
       "<div>\n",
       "<style scoped>\n",
       "    .dataframe tbody tr th:only-of-type {\n",
       "        vertical-align: middle;\n",
       "    }\n",
       "\n",
       "    .dataframe tbody tr th {\n",
       "        vertical-align: top;\n",
       "    }\n",
       "\n",
       "    .dataframe thead th {\n",
       "        text-align: right;\n",
       "    }\n",
       "</style>\n",
       "<table border=\"1\" class=\"dataframe\">\n",
       "  <thead>\n",
       "    <tr style=\"text-align: right;\">\n",
       "      <th></th>\n",
       "      <th>Purchase ID</th>\n",
       "      <th>SN</th>\n",
       "      <th>Age</th>\n",
       "      <th>Gender</th>\n",
       "      <th>Item ID</th>\n",
       "      <th>Item Name</th>\n",
       "      <th>Price</th>\n",
       "    </tr>\n",
       "  </thead>\n",
       "  <tbody>\n",
       "    <tr>\n",
       "      <th>0</th>\n",
       "      <td>0</td>\n",
       "      <td>Lisim78</td>\n",
       "      <td>20</td>\n",
       "      <td>Male</td>\n",
       "      <td>108</td>\n",
       "      <td>Extraction, Quickblade Of Trembling Hands</td>\n",
       "      <td>3.53</td>\n",
       "    </tr>\n",
       "    <tr>\n",
       "      <th>1</th>\n",
       "      <td>1</td>\n",
       "      <td>Lisovynya38</td>\n",
       "      <td>40</td>\n",
       "      <td>Male</td>\n",
       "      <td>143</td>\n",
       "      <td>Frenzied Scimitar</td>\n",
       "      <td>1.56</td>\n",
       "    </tr>\n",
       "    <tr>\n",
       "      <th>2</th>\n",
       "      <td>2</td>\n",
       "      <td>Ithergue48</td>\n",
       "      <td>24</td>\n",
       "      <td>Male</td>\n",
       "      <td>92</td>\n",
       "      <td>Final Critic</td>\n",
       "      <td>4.88</td>\n",
       "    </tr>\n",
       "    <tr>\n",
       "      <th>3</th>\n",
       "      <td>3</td>\n",
       "      <td>Chamassasya86</td>\n",
       "      <td>24</td>\n",
       "      <td>Male</td>\n",
       "      <td>100</td>\n",
       "      <td>Blindscythe</td>\n",
       "      <td>3.27</td>\n",
       "    </tr>\n",
       "    <tr>\n",
       "      <th>4</th>\n",
       "      <td>4</td>\n",
       "      <td>Iskosia90</td>\n",
       "      <td>23</td>\n",
       "      <td>Male</td>\n",
       "      <td>131</td>\n",
       "      <td>Fury</td>\n",
       "      <td>1.44</td>\n",
       "    </tr>\n",
       "  </tbody>\n",
       "</table>\n",
       "</div>"
      ],
      "text/plain": [
       "   Purchase ID             SN  Age Gender  Item ID  \\\n",
       "0            0        Lisim78   20   Male      108   \n",
       "1            1    Lisovynya38   40   Male      143   \n",
       "2            2     Ithergue48   24   Male       92   \n",
       "3            3  Chamassasya86   24   Male      100   \n",
       "4            4      Iskosia90   23   Male      131   \n",
       "\n",
       "                                   Item Name  Price  \n",
       "0  Extraction, Quickblade Of Trembling Hands   3.53  \n",
       "1                          Frenzied Scimitar   1.56  \n",
       "2                               Final Critic   4.88  \n",
       "3                                Blindscythe   3.27  \n",
       "4                                       Fury   1.44  "
      ]
     },
     "execution_count": 2,
     "metadata": {},
     "output_type": "execute_result"
    }
   ],
   "source": [
    "# Dependencies and Setup\n",
    "import pandas as pd\n",
    "\n",
    "# File to Load (Remember to Change These)\n",
    "file_to_load = \"resources/purchase_data.csv\"\n",
    "\n",
    "# Read Purchasing File and store into Pandas data frame\n",
    "purchase_data_df = pd.read_csv(file_to_load)\n",
    "purchase_data_df.head() "
   ]
  },
  {
   "cell_type": "markdown",
   "metadata": {},
   "source": [
    "## Player Count"
   ]
  },
  {
   "cell_type": "markdown",
   "metadata": {},
   "source": [
    "* Display the total number of players\n"
   ]
  },
  {
   "cell_type": "code",
   "execution_count": 3,
   "metadata": {},
   "outputs": [
    {
     "data": {
      "text/plain": [
       "576"
      ]
     },
     "execution_count": 3,
     "metadata": {},
     "output_type": "execute_result"
    }
   ],
   "source": [
    "total_players = purchase_data_df[\"SN\"].value_counts().count()\n",
    "total_players "
   ]
  },
  {
   "cell_type": "markdown",
   "metadata": {},
   "source": [
    "## Purchasing Analysis (Total)"
   ]
  },
  {
   "cell_type": "markdown",
   "metadata": {},
   "source": [
    "* Run basic calculations to obtain number of unique items, average price, etc.\n",
    "\n",
    "\n",
    "* Create a summary data frame to hold the results\n",
    "\n",
    "\n",
    "* Optional: give the displayed data cleaner formatting\n",
    "\n",
    "\n",
    "* Display the summary data frame\n"
   ]
  },
  {
   "cell_type": "code",
   "execution_count": 4,
   "metadata": {
    "scrolled": true
   },
   "outputs": [
    {
     "data": {
      "text/html": [
       "<style  type=\"text/css\" >\n",
       "</style><table id=\"T_73b78386_9e36_11eb_92a4_1866da2be541\" ><thead>    <tr>        <th class=\"blank level0\" ></th>        <th class=\"col_heading level0 col0\" >Unique Items</th>        <th class=\"col_heading level0 col1\" >Average Price</th>        <th class=\"col_heading level0 col2\" >Number of Purchases</th>        <th class=\"col_heading level0 col3\" >Total Revenue</th>    </tr></thead><tbody>\n",
       "                <tr>\n",
       "                        <th id=\"T_73b78386_9e36_11eb_92a4_1866da2be541level0_row0\" class=\"row_heading level0 row0\" >0</th>\n",
       "                        <td id=\"T_73b78386_9e36_11eb_92a4_1866da2be541row0_col0\" class=\"data row0 col0\" >179</td>\n",
       "                        <td id=\"T_73b78386_9e36_11eb_92a4_1866da2be541row0_col1\" class=\"data row0 col1\" >$                3.05</td>\n",
       "                        <td id=\"T_73b78386_9e36_11eb_92a4_1866da2be541row0_col2\" class=\"data row0 col2\" >780</td>\n",
       "                        <td id=\"T_73b78386_9e36_11eb_92a4_1866da2be541row0_col3\" class=\"data row0 col3\" >$            2,379.77</td>\n",
       "            </tr>\n",
       "    </tbody></table>"
      ],
      "text/plain": [
       "<pandas.io.formats.style.Styler at 0x1e66a5c1b50>"
      ]
     },
     "execution_count": 4,
     "metadata": {},
     "output_type": "execute_result"
    }
   ],
   "source": [
    "purchase_data_df_data = [[purchase_data_df[\"Item ID\"].value_counts().count(),\n",
    "                          purchase_data_df[\"Price\"].mean(),\n",
    "                          purchase_data_df[\"Purchase ID\"].count(),\n",
    "                          purchase_data_df[\"Price\"].sum()]]\n",
    "df = pd.DataFrame(purchase_data_df_data, columns = ['Unique Items', 'Average Price', 'Number of Purchases', 'Total Revenue'])\n",
    "df.style.format({\"Average Price\": \"${:20,.2f}\", \"Total Revenue\": \"${:20,.2f}\"}) "
   ]
  },
  {
   "cell_type": "markdown",
   "metadata": {},
   "source": [
    "## Gender Demographics"
   ]
  },
  {
   "cell_type": "markdown",
   "metadata": {},
   "source": [
    "* Percentage and Count of Male Players\n",
    "\n",
    "\n",
    "* Percentage and Count of Female Players\n",
    "\n",
    "\n",
    "* Percentage and Count of Other / Non-Disclosed\n",
    "\n",
    "\n"
   ]
  },
  {
   "cell_type": "code",
   "execution_count": 5,
   "metadata": {},
   "outputs": [
    {
     "data": {
      "text/html": [
       "<div>\n",
       "<style scoped>\n",
       "    .dataframe tbody tr th:only-of-type {\n",
       "        vertical-align: middle;\n",
       "    }\n",
       "\n",
       "    .dataframe tbody tr th {\n",
       "        vertical-align: top;\n",
       "    }\n",
       "\n",
       "    .dataframe thead th {\n",
       "        text-align: right;\n",
       "    }\n",
       "</style>\n",
       "<table border=\"1\" class=\"dataframe\">\n",
       "  <thead>\n",
       "    <tr style=\"text-align: right;\">\n",
       "      <th></th>\n",
       "      <th>Total Count</th>\n",
       "      <th>Percentage of Players</th>\n",
       "    </tr>\n",
       "    <tr>\n",
       "      <th></th>\n",
       "      <th></th>\n",
       "      <th></th>\n",
       "    </tr>\n",
       "  </thead>\n",
       "  <tbody>\n",
       "    <tr>\n",
       "      <th>Male</th>\n",
       "      <td>484</td>\n",
       "      <td>84.03%</td>\n",
       "    </tr>\n",
       "    <tr>\n",
       "      <th>Female</th>\n",
       "      <td>81</td>\n",
       "      <td>14.06%</td>\n",
       "    </tr>\n",
       "    <tr>\n",
       "      <th>Other / Non-Disclosed</th>\n",
       "      <td>11</td>\n",
       "      <td>1.91%</td>\n",
       "    </tr>\n",
       "  </tbody>\n",
       "</table>\n",
       "</div>"
      ],
      "text/plain": [
       "                       Total Count Percentage of Players\n",
       "                                                        \n",
       "Male                           484                84.03%\n",
       "Female                          81                14.06%\n",
       "Other / Non-Disclosed           11                 1.91%"
      ]
     },
     "execution_count": 5,
     "metadata": {},
     "output_type": "execute_result"
    }
   ],
   "source": [
    "Male = 'Male' \n",
    "Male_Count = purchase_data_df[purchase_data_df[\"Gender\"]==Male].value_counts(purchase_data_df[\"SN\"]).count()\n",
    "Male_Pct = (Male_Count / total_players)\n",
    "Female = 'Female'\n",
    "Female_Count = purchase_data_df[purchase_data_df[\"Gender\"]==Female].value_counts(purchase_data_df[\"SN\"]).count()\n",
    "Female_Pct = (Female_Count / total_players)\n",
    "Other = 'Other / Non-Disclosed'\n",
    "Other_Count = purchase_data_df[purchase_data_df[\"Gender\"]==Other].value_counts(purchase_data_df[\"SN\"]).count()\n",
    "Other_Pct = (Other_Count / total_players)\n",
    "datapacket = [[Male, Male_Count, Male_Pct], [Female, Female_Count, Female_Pct], [Other, Other_Count, Other_Pct]]\n",
    "Gender1_df = pd.DataFrame(datapacket, columns = [' ', 'Total Count', 'Percentage of Players'])\n",
    "Gender1_df['Percentage of Players'] = pd.Series([\"{0:.2f}%\".format(val * 100) for val in Gender1_df['Percentage of Players']], index = Gender1_df.index)\n",
    "Gender1_df = Gender1_df.set_index(' ')\n",
    "Gender1_df"
   ]
  },
  {
   "cell_type": "markdown",
   "metadata": {},
   "source": [
    "\n",
    "## Purchasing Analysis (Gender)"
   ]
  },
  {
   "cell_type": "markdown",
   "metadata": {},
   "source": [
    "* Run basic calculations to obtain purchase count, avg. purchase price, avg. purchase total per person etc. by gender\n",
    "\n",
    "\n",
    "\n",
    "\n",
    "* Create a summary data frame to hold the results\n",
    "\n",
    "\n",
    "* Optional: give the displayed data cleaner formatting\n",
    "\n",
    "\n",
    "* Display the summary data frame"
   ]
  },
  {
   "cell_type": "code",
   "execution_count": 6,
   "metadata": {},
   "outputs": [
    {
     "data": {
      "text/html": [
       "<style  type=\"text/css\" >\n",
       "</style><table id=\"T_7a9e507b_9e36_11eb_b853_1866da2be541\" ><thead>    <tr>        <th class=\"blank level0\" ></th>        <th class=\"col_heading level0 col0\" >Purchase Count</th>        <th class=\"col_heading level0 col1\" >Average Purchase Price</th>        <th class=\"col_heading level0 col2\" >Total Purchase Value</th>        <th class=\"col_heading level0 col3\" >Avg Total Purchase per Person</th>    </tr>    <tr>        <th class=\"index_name level0\" >Gender</th>        <th class=\"blank\" ></th>        <th class=\"blank\" ></th>        <th class=\"blank\" ></th>        <th class=\"blank\" ></th>    </tr></thead><tbody>\n",
       "                <tr>\n",
       "                        <th id=\"T_7a9e507b_9e36_11eb_b853_1866da2be541level0_row0\" class=\"row_heading level0 row0\" >Female</th>\n",
       "                        <td id=\"T_7a9e507b_9e36_11eb_b853_1866da2be541row0_col0\" class=\"data row0 col0\" >113</td>\n",
       "                        <td id=\"T_7a9e507b_9e36_11eb_b853_1866da2be541row0_col1\" class=\"data row0 col1\" >$                3.20</td>\n",
       "                        <td id=\"T_7a9e507b_9e36_11eb_b853_1866da2be541row0_col2\" class=\"data row0 col2\" >$              361.94</td>\n",
       "                        <td id=\"T_7a9e507b_9e36_11eb_b853_1866da2be541row0_col3\" class=\"data row0 col3\" >$                4.47</td>\n",
       "            </tr>\n",
       "            <tr>\n",
       "                        <th id=\"T_7a9e507b_9e36_11eb_b853_1866da2be541level0_row1\" class=\"row_heading level0 row1\" >Male</th>\n",
       "                        <td id=\"T_7a9e507b_9e36_11eb_b853_1866da2be541row1_col0\" class=\"data row1 col0\" >652</td>\n",
       "                        <td id=\"T_7a9e507b_9e36_11eb_b853_1866da2be541row1_col1\" class=\"data row1 col1\" >$                3.02</td>\n",
       "                        <td id=\"T_7a9e507b_9e36_11eb_b853_1866da2be541row1_col2\" class=\"data row1 col2\" >$            1,967.64</td>\n",
       "                        <td id=\"T_7a9e507b_9e36_11eb_b853_1866da2be541row1_col3\" class=\"data row1 col3\" >$                4.07</td>\n",
       "            </tr>\n",
       "            <tr>\n",
       "                        <th id=\"T_7a9e507b_9e36_11eb_b853_1866da2be541level0_row2\" class=\"row_heading level0 row2\" >Other / Non-Disclosed</th>\n",
       "                        <td id=\"T_7a9e507b_9e36_11eb_b853_1866da2be541row2_col0\" class=\"data row2 col0\" >15</td>\n",
       "                        <td id=\"T_7a9e507b_9e36_11eb_b853_1866da2be541row2_col1\" class=\"data row2 col1\" >$                3.35</td>\n",
       "                        <td id=\"T_7a9e507b_9e36_11eb_b853_1866da2be541row2_col2\" class=\"data row2 col2\" >$               50.19</td>\n",
       "                        <td id=\"T_7a9e507b_9e36_11eb_b853_1866da2be541row2_col3\" class=\"data row2 col3\" >$                4.56</td>\n",
       "            </tr>\n",
       "    </tbody></table>"
      ],
      "text/plain": [
       "<pandas.io.formats.style.Styler at 0x1e66c6c0a60>"
      ]
     },
     "execution_count": 6,
     "metadata": {},
     "output_type": "execute_result"
    }
   ],
   "source": [
    "SelectG = 'Female' \n",
    "Pur_Cnt1 = purchase_data_df[purchase_data_df[\"Gender\"]==SelectG].value_counts(purchase_data_df[\"Purchase ID\"]).count()\n",
    "Tot_Pur1 = purchase_data_df.loc[purchase_data_df[\"Gender\"]==SelectG, \"Price\"].sum()\n",
    "Avg_Pur1 = (Tot_Pur1 / Pur_Cnt1)\n",
    "\n",
    "ATot_Pur = purchase_data_df.loc[purchase_data_df[\"Gender\"]==SelectG, \"Price\"].groupby(purchase_data_df[\"SN\"]).sum().sum()\n",
    "Avg_PP_PG1 = ATot_Pur / Female_Count  \n",
    "\n",
    "SelectG = 'Male'\n",
    "Pur_Cnt2 = purchase_data_df[purchase_data_df[\"Gender\"]==SelectG].value_counts(purchase_data_df[\"Purchase ID\"]).count()\n",
    "Tot_Pur2 = purchase_data_df.loc[purchase_data_df[\"Gender\"]==SelectG, \"Price\"].sum()\n",
    "Avg_Pur2 = (Tot_Pur2 / Pur_Cnt2)\n",
    "\n",
    "ATot_Pur = purchase_data_df.loc[purchase_data_df[\"Gender\"]==SelectG, \"Price\"].groupby(purchase_data_df[\"SN\"]).sum().sum()\n",
    "Avg_PP_PG2 = ATot_Pur / Male_Count\n",
    "\n",
    "SelectG = 'Other / Non-Disclosed'\n",
    "Pur_Cnt3 = purchase_data_df[purchase_data_df[\"Gender\"]==SelectG].value_counts(purchase_data_df[\"Purchase ID\"]).count()\n",
    "Tot_Pur3 = purchase_data_df.loc[purchase_data_df[\"Gender\"]==SelectG, \"Price\"].sum()\n",
    "Avg_Pur3 = (Tot_Pur3 / Pur_Cnt3)\n",
    "\n",
    "ATot_Pur = purchase_data_df.loc[purchase_data_df[\"Gender\"]==SelectG, \"Price\"].groupby(purchase_data_df[\"SN\"]).sum().sum()\n",
    "Avg_PP_PG3 = ATot_Pur / Other_Count\n",
    "\n",
    "datapacket = [[Female, Pur_Cnt1, Avg_Pur1, Tot_Pur1, Avg_PP_PG1], [Male, Pur_Cnt2, Avg_Pur2, Tot_Pur2, Avg_PP_PG2], \n",
    "              [Other, Pur_Cnt3, Avg_Pur3, Tot_Pur3, Avg_PP_PG3]]\n",
    "Gender2_df = pd.DataFrame(datapacket, columns = ['Gender', \n",
    "                                                 'Purchase Count',\n",
    "                                                 'Average Purchase Price',\n",
    "                                                 'Total Purchase Value',\n",
    "                                                 'Avg Total Purchase per Person' ])\n",
    "Gender2_df = Gender2_df.set_index('Gender')\n",
    "Gender2_df.style.format({\"Average Purchase Price\": \"${:20,.2f}\", \"Total Purchase Value\": \"${:20,.2f}\",\n",
    "                         \"Avg Total Purchase per Person\": \"${:20,.2f}\"}) "
   ]
  },
  {
   "cell_type": "markdown",
   "metadata": {},
   "source": [
    "## Age Demographics"
   ]
  },
  {
   "cell_type": "markdown",
   "metadata": {},
   "source": [
    "* Establish bins for ages\n",
    "\n",
    "\n",
    "* Categorize the existing players using the age bins. Hint: use pd.cut()\n",
    "\n",
    "\n",
    "* Calculate the numbers and percentages by age group\n",
    "\n",
    "\n",
    "* Create a summary data frame to hold the results\n",
    "\n",
    "\n",
    "* Optional: round the percentage column to two decimal points\n",
    "\n",
    "\n",
    "* Display Age Demographics Table\n"
   ]
  },
  {
   "cell_type": "code",
   "execution_count": 7,
   "metadata": {},
   "outputs": [
    {
     "data": {
      "text/html": [
       "<div>\n",
       "<style scoped>\n",
       "    .dataframe tbody tr th:only-of-type {\n",
       "        vertical-align: middle;\n",
       "    }\n",
       "\n",
       "    .dataframe tbody tr th {\n",
       "        vertical-align: top;\n",
       "    }\n",
       "\n",
       "    .dataframe thead th {\n",
       "        text-align: right;\n",
       "    }\n",
       "</style>\n",
       "<table border=\"1\" class=\"dataframe\">\n",
       "  <thead>\n",
       "    <tr style=\"text-align: right;\">\n",
       "      <th></th>\n",
       "      <th>Total Count</th>\n",
       "      <th>Percentage of Players</th>\n",
       "    </tr>\n",
       "    <tr>\n",
       "      <th>Age_Bin</th>\n",
       "      <th></th>\n",
       "      <th></th>\n",
       "    </tr>\n",
       "  </thead>\n",
       "  <tbody>\n",
       "    <tr>\n",
       "      <th>&lt;10</th>\n",
       "      <td>17</td>\n",
       "      <td>2.95%</td>\n",
       "    </tr>\n",
       "    <tr>\n",
       "      <th>10-14</th>\n",
       "      <td>22</td>\n",
       "      <td>3.82%</td>\n",
       "    </tr>\n",
       "    <tr>\n",
       "      <th>15-19</th>\n",
       "      <td>107</td>\n",
       "      <td>18.58%</td>\n",
       "    </tr>\n",
       "    <tr>\n",
       "      <th>20-24</th>\n",
       "      <td>258</td>\n",
       "      <td>44.79%</td>\n",
       "    </tr>\n",
       "    <tr>\n",
       "      <th>25-29</th>\n",
       "      <td>77</td>\n",
       "      <td>13.37%</td>\n",
       "    </tr>\n",
       "    <tr>\n",
       "      <th>30-34</th>\n",
       "      <td>52</td>\n",
       "      <td>9.03%</td>\n",
       "    </tr>\n",
       "    <tr>\n",
       "      <th>35-39</th>\n",
       "      <td>31</td>\n",
       "      <td>5.38%</td>\n",
       "    </tr>\n",
       "    <tr>\n",
       "      <th>40+</th>\n",
       "      <td>12</td>\n",
       "      <td>2.08%</td>\n",
       "    </tr>\n",
       "  </tbody>\n",
       "</table>\n",
       "</div>"
      ],
      "text/plain": [
       "         Total Count Percentage of Players\n",
       "Age_Bin                                   \n",
       "<10               17                 2.95%\n",
       "10-14             22                 3.82%\n",
       "15-19            107                18.58%\n",
       "20-24            258                44.79%\n",
       "25-29             77                13.37%\n",
       "30-34             52                 9.03%\n",
       "35-39             31                 5.38%\n",
       "40+               12                 2.08%"
      ]
     },
     "execution_count": 7,
     "metadata": {},
     "output_type": "execute_result"
    }
   ],
   "source": [
    "bins = [0, 9, 14, 19, 24, 29, 34, 39, 100]\n",
    "group_labels = [\"<10\", \"10-14\", \"15-19\", \"20-24\", \"25-29\", \"30-34\", \"35-39\", \"40+\"]\n",
    "\n",
    "purchase_data_df[\"Age_Bin\"] = pd.cut(purchase_data_df['Age'],bins=bins,labels=group_labels)\n",
    "agebin_group = purchase_data_df.groupby(\"Age_Bin\")\n",
    "agebin_group[\"SN\"].nunique()\n",
    "\n",
    "\n",
    "players_per_group = agebin_group[\"SN\"].nunique()\n",
    "players_per_agebin_df = pd.DataFrame(agebin_group[\"SN\"].nunique())\n",
    "pct_of_players_per_agebin_df = pd.DataFrame((players_per_group/total_players)) \n",
    "#pct_of_players_df.head(20)\n",
    "players_per_agebin_df = players_per_agebin_df.merge(pct_of_players_per_agebin_df, on=\"Age_Bin\") \n",
    "players_per_agebin_df = players_per_agebin_df.rename(columns={\"SN_x\": \"Total Count\"})\n",
    "players_per_agebin_df = players_per_agebin_df.rename(columns={\"SN_y\": \"Percentage of Players\"})\n",
    "players_per_agebin_df['Percentage of Players'] = pd.Series([\"{0:.2f}%\".format(val * 100) for val in players_per_agebin_df['Percentage of Players']],\n",
    "      index = players_per_agebin_df.index)\n",
    "\n",
    "players_per_agebin_df.head(20)"
   ]
  },
  {
   "cell_type": "markdown",
   "metadata": {},
   "source": [
    "## Purchasing Analysis (Age)"
   ]
  },
  {
   "cell_type": "markdown",
   "metadata": {},
   "source": [
    "* Bin the purchase_data data frame by age\n",
    "\n",
    "\n",
    "* Run basic calculations to obtain purchase count, avg. purchase price, avg. purchase total per person etc. in the table below\n",
    "\n",
    "\n",
    "* Create a summary data frame to hold the results\n",
    "\n",
    "\n",
    "* Optional: give the displayed data cleaner formatting\n",
    "\n",
    "\n",
    "* Display the summary data frame"
   ]
  },
  {
   "cell_type": "code",
   "execution_count": 8,
   "metadata": {},
   "outputs": [
    {
     "data": {
      "text/html": [
       "<style  type=\"text/css\" >\n",
       "</style><table id=\"T_83d7d1a9_9e36_11eb_9b6e_1866da2be541\" ><thead>    <tr>        <th class=\"blank level0\" ></th>        <th class=\"col_heading level0 col0\" >Purchase Count</th>        <th class=\"col_heading level0 col1\" >Average Purchase Price</th>        <th class=\"col_heading level0 col2\" >Total Purchase Value</th>        <th class=\"col_heading level0 col3\" >Avg Total Purchase per Person</th>    </tr>    <tr>        <th class=\"index_name level0\" >Age Ranges</th>        <th class=\"blank\" ></th>        <th class=\"blank\" ></th>        <th class=\"blank\" ></th>        <th class=\"blank\" ></th>    </tr></thead><tbody>\n",
       "                <tr>\n",
       "                        <th id=\"T_83d7d1a9_9e36_11eb_9b6e_1866da2be541level0_row0\" class=\"row_heading level0 row0\" ><10</th>\n",
       "                        <td id=\"T_83d7d1a9_9e36_11eb_9b6e_1866da2be541row0_col0\" class=\"data row0 col0\" >23</td>\n",
       "                        <td id=\"T_83d7d1a9_9e36_11eb_9b6e_1866da2be541row0_col1\" class=\"data row0 col1\" >$                3.35</td>\n",
       "                        <td id=\"T_83d7d1a9_9e36_11eb_9b6e_1866da2be541row0_col2\" class=\"data row0 col2\" >$               77.13</td>\n",
       "                        <td id=\"T_83d7d1a9_9e36_11eb_9b6e_1866da2be541row0_col3\" class=\"data row0 col3\" >$                4.54</td>\n",
       "            </tr>\n",
       "            <tr>\n",
       "                        <th id=\"T_83d7d1a9_9e36_11eb_9b6e_1866da2be541level0_row1\" class=\"row_heading level0 row1\" >10-14</th>\n",
       "                        <td id=\"T_83d7d1a9_9e36_11eb_9b6e_1866da2be541row1_col0\" class=\"data row1 col0\" >28</td>\n",
       "                        <td id=\"T_83d7d1a9_9e36_11eb_9b6e_1866da2be541row1_col1\" class=\"data row1 col1\" >$                2.96</td>\n",
       "                        <td id=\"T_83d7d1a9_9e36_11eb_9b6e_1866da2be541row1_col2\" class=\"data row1 col2\" >$               82.78</td>\n",
       "                        <td id=\"T_83d7d1a9_9e36_11eb_9b6e_1866da2be541row1_col3\" class=\"data row1 col3\" >$                3.76</td>\n",
       "            </tr>\n",
       "            <tr>\n",
       "                        <th id=\"T_83d7d1a9_9e36_11eb_9b6e_1866da2be541level0_row2\" class=\"row_heading level0 row2\" >15-19</th>\n",
       "                        <td id=\"T_83d7d1a9_9e36_11eb_9b6e_1866da2be541row2_col0\" class=\"data row2 col0\" >136</td>\n",
       "                        <td id=\"T_83d7d1a9_9e36_11eb_9b6e_1866da2be541row2_col1\" class=\"data row2 col1\" >$                3.04</td>\n",
       "                        <td id=\"T_83d7d1a9_9e36_11eb_9b6e_1866da2be541row2_col2\" class=\"data row2 col2\" >$              412.89</td>\n",
       "                        <td id=\"T_83d7d1a9_9e36_11eb_9b6e_1866da2be541row2_col3\" class=\"data row2 col3\" >$                3.86</td>\n",
       "            </tr>\n",
       "            <tr>\n",
       "                        <th id=\"T_83d7d1a9_9e36_11eb_9b6e_1866da2be541level0_row3\" class=\"row_heading level0 row3\" >20-24</th>\n",
       "                        <td id=\"T_83d7d1a9_9e36_11eb_9b6e_1866da2be541row3_col0\" class=\"data row3 col0\" >365</td>\n",
       "                        <td id=\"T_83d7d1a9_9e36_11eb_9b6e_1866da2be541row3_col1\" class=\"data row3 col1\" >$                3.05</td>\n",
       "                        <td id=\"T_83d7d1a9_9e36_11eb_9b6e_1866da2be541row3_col2\" class=\"data row3 col2\" >$            1,114.06</td>\n",
       "                        <td id=\"T_83d7d1a9_9e36_11eb_9b6e_1866da2be541row3_col3\" class=\"data row3 col3\" >$                4.32</td>\n",
       "            </tr>\n",
       "            <tr>\n",
       "                        <th id=\"T_83d7d1a9_9e36_11eb_9b6e_1866da2be541level0_row4\" class=\"row_heading level0 row4\" >25-29</th>\n",
       "                        <td id=\"T_83d7d1a9_9e36_11eb_9b6e_1866da2be541row4_col0\" class=\"data row4 col0\" >101</td>\n",
       "                        <td id=\"T_83d7d1a9_9e36_11eb_9b6e_1866da2be541row4_col1\" class=\"data row4 col1\" >$                2.90</td>\n",
       "                        <td id=\"T_83d7d1a9_9e36_11eb_9b6e_1866da2be541row4_col2\" class=\"data row4 col2\" >$              293.00</td>\n",
       "                        <td id=\"T_83d7d1a9_9e36_11eb_9b6e_1866da2be541row4_col3\" class=\"data row4 col3\" >$                3.81</td>\n",
       "            </tr>\n",
       "            <tr>\n",
       "                        <th id=\"T_83d7d1a9_9e36_11eb_9b6e_1866da2be541level0_row5\" class=\"row_heading level0 row5\" >30-34</th>\n",
       "                        <td id=\"T_83d7d1a9_9e36_11eb_9b6e_1866da2be541row5_col0\" class=\"data row5 col0\" >73</td>\n",
       "                        <td id=\"T_83d7d1a9_9e36_11eb_9b6e_1866da2be541row5_col1\" class=\"data row5 col1\" >$                2.93</td>\n",
       "                        <td id=\"T_83d7d1a9_9e36_11eb_9b6e_1866da2be541row5_col2\" class=\"data row5 col2\" >$              214.00</td>\n",
       "                        <td id=\"T_83d7d1a9_9e36_11eb_9b6e_1866da2be541row5_col3\" class=\"data row5 col3\" >$                4.12</td>\n",
       "            </tr>\n",
       "            <tr>\n",
       "                        <th id=\"T_83d7d1a9_9e36_11eb_9b6e_1866da2be541level0_row6\" class=\"row_heading level0 row6\" >35-39</th>\n",
       "                        <td id=\"T_83d7d1a9_9e36_11eb_9b6e_1866da2be541row6_col0\" class=\"data row6 col0\" >41</td>\n",
       "                        <td id=\"T_83d7d1a9_9e36_11eb_9b6e_1866da2be541row6_col1\" class=\"data row6 col1\" >$                3.60</td>\n",
       "                        <td id=\"T_83d7d1a9_9e36_11eb_9b6e_1866da2be541row6_col2\" class=\"data row6 col2\" >$              147.67</td>\n",
       "                        <td id=\"T_83d7d1a9_9e36_11eb_9b6e_1866da2be541row6_col3\" class=\"data row6 col3\" >$                4.76</td>\n",
       "            </tr>\n",
       "            <tr>\n",
       "                        <th id=\"T_83d7d1a9_9e36_11eb_9b6e_1866da2be541level0_row7\" class=\"row_heading level0 row7\" >40+</th>\n",
       "                        <td id=\"T_83d7d1a9_9e36_11eb_9b6e_1866da2be541row7_col0\" class=\"data row7 col0\" >13</td>\n",
       "                        <td id=\"T_83d7d1a9_9e36_11eb_9b6e_1866da2be541row7_col1\" class=\"data row7 col1\" >$                2.94</td>\n",
       "                        <td id=\"T_83d7d1a9_9e36_11eb_9b6e_1866da2be541row7_col2\" class=\"data row7 col2\" >$               38.24</td>\n",
       "                        <td id=\"T_83d7d1a9_9e36_11eb_9b6e_1866da2be541row7_col3\" class=\"data row7 col3\" >$                3.19</td>\n",
       "            </tr>\n",
       "    </tbody></table>"
      ],
      "text/plain": [
       "<pandas.io.formats.style.Styler at 0x1e66a5d3bb0>"
      ]
     },
     "execution_count": 8,
     "metadata": {},
     "output_type": "execute_result"
    }
   ],
   "source": [
    "bins = [0, 9, 14, 19, 24, 29, 34, 39, 100]\n",
    "group_labels = [\"<10\", \"10-14\", \"15-19\", \"20-24\", \"25-29\", \"30-34\", \"35-39\", \"40+\"]\n",
    "\n",
    "purchase_data_df[\"Age_Bin\"] = pd.cut(purchase_data_df['Age'],bins=bins,labels=group_labels)\n",
    "agebin_group = purchase_data_df.groupby(\"Age_Bin\")\n",
    "#agebin_group[\"Age_Bin\"].count()\n",
    "avgpur_per_agebin_df = pd.DataFrame(agebin_group[\"Purchase ID\"].count())\n",
    "\n",
    "tot_pur = agebin_group[\"Price\"].sum()\n",
    "pur_cnt = agebin_group[\"Purchase ID\"].count()\n",
    "avg_pur_price_df = pd.DataFrame((tot_pur/pur_cnt))\n",
    "#avg_pur_price_df.head()\n",
    "\n",
    "tot_pur = agebin_group[\"Price\"].sum()\n",
    "tot_pur_price_df = pd.DataFrame(tot_pur)\n",
    "#tot_pur_price_df.head(20)\n",
    "\n",
    "purchasers_per_grp = agebin_group[\"SN\"].nunique()\n",
    "tot_pur = agebin_group[\"Price\"].sum()\n",
    "avg_totpur_per_person_df = pd.DataFrame((tot_pur/purchasers_per_grp))\n",
    "#avg_totpur_per_person_df.head(20)\n",
    "\n",
    "avgpur_per_agebin_df = avgpur_per_agebin_df.merge(avg_pur_price_df, on=\"Age_Bin\") \n",
    "avgpur_per_agebin_df = avgpur_per_agebin_df.merge(tot_pur_price_df, on=\"Age_Bin\")\n",
    "avgpur_per_agebin_df = avgpur_per_agebin_df.merge(avg_totpur_per_person_df, on=\"Age_Bin\")\n",
    "avgpur_per_agebin_df.index.name = \"Age Ranges\"\n",
    "avgpur_per_agebin_df = avgpur_per_agebin_df.rename(columns={\"Purchase ID\": \"Purchase Count\"})\n",
    "avgpur_per_agebin_df = avgpur_per_agebin_df.rename(columns={\"0_x\": \"Average Purchase Price\"})\n",
    "avgpur_per_agebin_df = avgpur_per_agebin_df.rename(columns={\"Price\": \"Total Purchase Value\"})\n",
    "avgpur_per_agebin_df = avgpur_per_agebin_df.rename(columns={\"0_y\": \"Avg Total Purchase per Person\"})\n",
    "\n",
    "avgpur_per_agebin_df.style.format({\"Average Purchase Price\": \"${:20,.2f}\", \"Total Purchase Value\": \"${:20,.2f}\",\n",
    "                         \"Avg Total Purchase per Person\": \"${:20,.2f}\"})\n",
    "\n",
    "#avgpur_per_agebin_df.head()\n",
    " "
   ]
  },
  {
   "cell_type": "markdown",
   "metadata": {},
   "source": [
    "## Top Spenders"
   ]
  },
  {
   "cell_type": "markdown",
   "metadata": {},
   "source": [
    "* Run basic calculations to obtain the results in the table below\n",
    "\n",
    "\n",
    "* Create a summary data frame to hold the results\n",
    "\n",
    "\n",
    "* Sort the total purchase value column in descending order\n",
    "\n",
    "\n",
    "* Optional: give the displayed data cleaner formatting\n",
    "\n",
    "\n",
    "* Display a preview of the summary data frame\n",
    "\n"
   ]
  },
  {
   "cell_type": "code",
   "execution_count": null,
   "metadata": {},
   "outputs": [],
   "source": []
  },
  {
   "cell_type": "markdown",
   "metadata": {},
   "source": [
    "## Most Popular Items"
   ]
  },
  {
   "cell_type": "markdown",
   "metadata": {},
   "source": [
    "* Retrieve the Item ID, Item Name, and Item Price columns\n",
    "\n",
    "\n",
    "* Group by Item ID and Item Name. Perform calculations to obtain purchase count, average item price, and total purchase value\n",
    "\n",
    "\n",
    "* Create a summary data frame to hold the results\n",
    "\n",
    "\n",
    "* Sort the purchase count column in descending order\n",
    "\n",
    "\n",
    "* Optional: give the displayed data cleaner formatting\n",
    "\n",
    "\n",
    "* Display a preview of the summary data frame\n",
    "\n"
   ]
  },
  {
   "cell_type": "code",
   "execution_count": null,
   "metadata": {},
   "outputs": [],
   "source": []
  },
  {
   "cell_type": "markdown",
   "metadata": {},
   "source": [
    "## Most Profitable Items"
   ]
  },
  {
   "cell_type": "markdown",
   "metadata": {},
   "source": [
    "* Sort the above table by total purchase value in descending order\n",
    "\n",
    "\n",
    "* Optional: give the displayed data cleaner formatting\n",
    "\n",
    "\n",
    "* Display a preview of the data frame\n",
    "\n"
   ]
  },
  {
   "cell_type": "code",
   "execution_count": null,
   "metadata": {
    "scrolled": true
   },
   "outputs": [],
   "source": []
  }
 ],
 "metadata": {
  "anaconda-cloud": {},
  "kernel_info": {
   "name": "python3"
  },
  "kernelspec": {
   "display_name": "Python 3",
   "language": "python",
   "name": "python3"
  },
  "language_info": {
   "codemirror_mode": {
    "name": "ipython",
    "version": 3
   },
   "file_extension": ".py",
   "mimetype": "text/x-python",
   "name": "python",
   "nbconvert_exporter": "python",
   "pygments_lexer": "ipython3",
   "version": "3.8.5"
  },
  "latex_envs": {
   "LaTeX_envs_menu_present": true,
   "autoclose": false,
   "autocomplete": true,
   "bibliofile": "biblio.bib",
   "cite_by": "apalike",
   "current_citInitial": 1,
   "eqLabelWithNumbers": true,
   "eqNumInitial": 1,
   "hotkeys": {
    "equation": "Ctrl-E",
    "itemize": "Ctrl-I"
   },
   "labels_anchors": false,
   "latex_user_defs": false,
   "report_style_numbering": false,
   "user_envs_cfg": false
  },
  "nteract": {
   "version": "0.2.0"
  }
 },
 "nbformat": 4,
 "nbformat_minor": 2
}
